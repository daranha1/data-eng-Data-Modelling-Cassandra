{
 "cells": [
  {
   "cell_type": "markdown",
   "metadata": {
    "editable": true
   },
   "source": [
    "# Part I. ETL Pipeline for Pre-Processing the Files"
   ]
  },
  {
   "cell_type": "markdown",
   "metadata": {
    "editable": true
   },
   "source": [
    "## PLEASE RUN THE FOLLOWING CODE FOR PRE-PROCESSING THE FILES"
   ]
  },
  {
   "cell_type": "markdown",
   "metadata": {
    "editable": true
   },
   "source": [
    "#### Import Python packages "
   ]
  },
  {
   "cell_type": "code",
   "execution_count": 1,
   "metadata": {
    "editable": true
   },
   "outputs": [],
   "source": [
    "# Import Python packages \n",
    "import pandas as pd\n",
    "import cassandra\n",
    "import re\n",
    "import os\n",
    "import glob\n",
    "import numpy as np\n",
    "import json\n",
    "import csv"
   ]
  },
  {
   "cell_type": "markdown",
   "metadata": {
    "editable": true
   },
   "source": [
    "#### Creating list of filepaths to process original event csv data files"
   ]
  },
  {
   "cell_type": "code",
   "execution_count": 2,
   "metadata": {
    "editable": true
   },
   "outputs": [
    {
     "name": "stdout",
     "output_type": "stream",
     "text": [
      "/home/workspace\n",
      "['/home/workspace/event_data/2018-11-27-events.csv', '/home/workspace/event_data/2018-11-04-events.csv', '/home/workspace/event_data/2018-11-07-events.csv', '/home/workspace/event_data/2018-11-09-events.csv', '/home/workspace/event_data/2018-11-19-events.csv', '/home/workspace/event_data/2018-11-05-events.csv', '/home/workspace/event_data/2018-11-22-events.csv', '/home/workspace/event_data/2018-11-16-events.csv', '/home/workspace/event_data/2018-11-26-events.csv', '/home/workspace/event_data/2018-11-24-events.csv', '/home/workspace/event_data/2018-11-29-events.csv', '/home/workspace/event_data/2018-11-15-events.csv', '/home/workspace/event_data/2018-11-20-events.csv', '/home/workspace/event_data/2018-11-06-events.csv', '/home/workspace/event_data/2018-11-18-events.csv', '/home/workspace/event_data/2018-11-21-events.csv', '/home/workspace/event_data/2018-11-10-events.csv', '/home/workspace/event_data/2018-11-23-events.csv', '/home/workspace/event_data/2018-11-02-events.csv', '/home/workspace/event_data/2018-11-28-events.csv', '/home/workspace/event_data/2018-11-03-events.csv', '/home/workspace/event_data/2018-11-13-events.csv', '/home/workspace/event_data/2018-11-30-events.csv', '/home/workspace/event_data/2018-11-12-events.csv', '/home/workspace/event_data/2018-11-01-events.csv', '/home/workspace/event_data/2018-11-14-events.csv', '/home/workspace/event_data/2018-11-25-events.csv', '/home/workspace/event_data/2018-11-08-events.csv', '/home/workspace/event_data/2018-11-17-events.csv', '/home/workspace/event_data/2018-11-11-events.csv']\n"
     ]
    }
   ],
   "source": [
    "# checking your current working directory\n",
    "print(os.getcwd())\n",
    "\n",
    "# Get your current folder and subfolder event data\n",
    "filepath = os.getcwd() + '/event_data'\n",
    "\n",
    "# Create a for loop to create a list of files and collect each filepath\n",
    "for root, dirs, files in os.walk(filepath):\n",
    "    \n",
    "# join the file path and roots with the subdirectories using glob\n",
    "    file_path_list = glob.glob(os.path.join(root,'*'))\n",
    "    print(file_path_list)"
   ]
  },
  {
   "cell_type": "markdown",
   "metadata": {
    "editable": true
   },
   "source": [
    "#### Processing the files to create the data file csv that will be used for Apache Casssandra tables"
   ]
  },
  {
   "cell_type": "code",
   "execution_count": 3,
   "metadata": {
    "editable": true
   },
   "outputs": [],
   "source": [
    "# initiating an empty list of rows that will be generated from each file\n",
    "full_data_rows_list = [] \n",
    "    \n",
    "# for every filepath in the file path list \n",
    "for f in file_path_list:\n",
    "\n",
    "# reading csv file \n",
    "    with open(f, 'r', encoding = 'utf8', newline='') as csvfile: \n",
    "        # creating a csv reader object \n",
    "        csvreader = csv.reader(csvfile) \n",
    "        next(csvreader)\n",
    "        \n",
    " # extracting each data row one by one and append it        \n",
    "        for line in csvreader:\n",
    "            #print(line)\n",
    "            full_data_rows_list.append(line) \n",
    "            \n",
    "# uncomment the code below if you would like to get total number of rows \n",
    "#print(len(full_data_rows_list))\n",
    "# uncomment the code below if you would like to check to see what the list of event data rows will look like\n",
    "#print(full_data_rows_list)\n",
    "\n",
    "# creating a smaller event data csv file called event_datafile_full csv that will be used to insert data into the \\\n",
    "# Apache Cassandra tables\n",
    "csv.register_dialect('myDialect', quoting=csv.QUOTE_ALL, skipinitialspace=True)\n",
    "\n",
    "with open('event_datafile_new.csv', 'w', encoding = 'utf8', newline='') as f:\n",
    "    writer = csv.writer(f, dialect='myDialect')\n",
    "    writer.writerow(['artist','firstName','gender','itemInSession','lastName','length',\\\n",
    "                'level','location','sessionId','song','userId'])\n",
    "    for row in full_data_rows_list:\n",
    "        if (row[0] == ''):\n",
    "            continue\n",
    "        writer.writerow((row[0], row[2], row[3], row[4], row[5], row[6], row[7], row[8], row[12], row[13], row[16]))\n"
   ]
  },
  {
   "cell_type": "code",
   "execution_count": 4,
   "metadata": {
    "editable": true
   },
   "outputs": [
    {
     "name": "stdout",
     "output_type": "stream",
     "text": [
      "6821\n"
     ]
    }
   ],
   "source": [
    "# check the number of rows in your csv file\n",
    "with open('event_datafile_new.csv', 'r', encoding = 'utf8') as f:\n",
    "    print(sum(1 for line in f))"
   ]
  },
  {
   "cell_type": "markdown",
   "metadata": {
    "editable": true
   },
   "source": [
    "# Part II. The Apache Cassandra code. \n",
    "\n",
    "## The Workspace directory contains the event_data files.  \n",
    "## The event_datafile_new.csv contains the following columns: \n",
    "- artist \n",
    "- firstName of user\n",
    "- gender of user\n",
    "- item number in session\n",
    "- last name of user\n",
    "- length of the song\n",
    "- level (paid or free song)\n",
    "- location of the user\n",
    "- sessionId\n",
    "- song title\n",
    "- userId\n",
    "\n",
    "The image below is a screenshot of the appearance of the denormalized data in the file <font color=red>**event_datafile_new.csv**</font> after the code above is run:<br>\n",
    "\n",
    "<img src=\"images/image_event_datafile_new.jpg\">"
   ]
  },
  {
   "cell_type": "markdown",
   "metadata": {
    "editable": true
   },
   "source": [
    "## Apache Cassandra code"
   ]
  },
  {
   "cell_type": "markdown",
   "metadata": {
    "editable": true
   },
   "source": [
    "#### Creating a Cluster"
   ]
  },
  {
   "cell_type": "code",
   "execution_count": 5,
   "metadata": {
    "editable": true
   },
   "outputs": [],
   "source": [
    "# Connect to a Cassandra instance on the local machine (127.0.0.1)\n",
    "\n",
    "from cassandra.cluster import Cluster\n",
    "cluster = Cluster()\n",
    "\n",
    "# Get a session to establish connection and begin executing queries\n",
    "session = cluster.connect()"
   ]
  },
  {
   "cell_type": "markdown",
   "metadata": {
    "editable": true
   },
   "source": [
    "#### Create Keyspace"
   ]
  },
  {
   "cell_type": "code",
   "execution_count": 6,
   "metadata": {
    "editable": true
   },
   "outputs": [],
   "source": [
    "try:\n",
    "    session.execute(\"\"\"\n",
    "    CREATE KEYSPACE IF NOT EXISTS udacity\n",
    "    WITH REPLICATION = \n",
    "    { 'class' : 'SimpleStrategy', 'replication_factor' : 1}\"\"\"\n",
    ")\n",
    "except Exception as e:\n",
    "    print (e)"
   ]
  },
  {
   "cell_type": "markdown",
   "metadata": {
    "editable": true
   },
   "source": [
    "#### Set Keyspace"
   ]
  },
  {
   "cell_type": "code",
   "execution_count": 7,
   "metadata": {
    "editable": true
   },
   "outputs": [],
   "source": [
    "try:\n",
    "    session.set_keyspace('udacity')\n",
    "except Exception as e:\n",
    "    print (e)\n"
   ]
  },
  {
   "cell_type": "markdown",
   "metadata": {
    "editable": true
   },
   "source": [
    "<code style=\"background : #ADD8E6; color : black\">\n",
    "    <h3> Queries are created to pose the following three questions of the data</br>\n",
    "    <code style=\"color:red\">Each Database table is modeled on a specific query that will be run.</red></h3>  \n",
    "\n",
    "#### 1. Give me the artist, song title and song's length in the music app history that was heard during  sessionId = 338, and itemInSession  = 4\n",
    "\n",
    "#### 2. Give me only the following: name of artist, song (sorted by itemInSession) and user (first and last name) for userid = 10, sessionid = 182  \n",
    "\n",
    "#### 3. Give me every user name (first and last) in my music app history who listened to the song 'All Hands Against His Own'\n",
    "</code>"
   ]
  },
  {
   "cell_type": "markdown",
   "metadata": {
    "editable": true
   },
   "source": [
    "#### <font color=blue>Query 1 : Provide the artist, song title and song's length in the music app history that was heard during sessionId = 338, and itemInSession = 4</font>"
   ]
  },
  {
   "cell_type": "code",
   "execution_count": 8,
   "metadata": {
    "editable": true
   },
   "outputs": [],
   "source": [
    "## Create table for query 1\n",
    "\n",
    "query1 = \"CREATE TABLE IF NOT EXISTS artist_song_itemInSession \"\n",
    "query1 = query1 + \"(session_id INT, item_in_session INT, artist TEXT, song_title TEXT, song_length FLOAT, PRIMARY KEY(session_id, item_in_session))\"\n",
    "\n",
    "try:\n",
    "    session.execute(query1)\n",
    "except Exception as e:\n",
    "    print (e)"
   ]
  },
  {
   "cell_type": "markdown",
   "metadata": {
    "editable": true
   },
   "source": [
    "### <font color=\"blue\">CSV file setup and Insert Statement for Query 1</font>"
   ]
  },
  {
   "cell_type": "code",
   "execution_count": 9,
   "metadata": {
    "editable": true
   },
   "outputs": [],
   "source": [
    "# Set up the CSV file\n",
    "file = 'event_datafile_new.csv'\n",
    "\n",
    "with open(file, encoding = 'utf8') as f:\n",
    "    csvreader = csv.reader(f)\n",
    "    next(csvreader) # skip header\n",
    "    for line in csvreader:\n",
    "        \n",
    "## Query 1 : INSERT statement\n",
    "        query1 = \"INSERT INTO artist_song_itemInSession (session_id, item_in_session, artist, song_title, song_length) \"\n",
    "        query1 = query1 + \"VALUES (%s, %s, %s, %s, %s)\"\n",
    "      \n",
    "        ## column position and column name\n",
    "        ## col0 = artist; col3 = itemInSession; col5=length; col8 = sessionId, col9 = song\n",
    "        try:\n",
    "           session.execute(query1, (int(line[8]), int(line[3]), line[0], line[9], float(line[5])))\n",
    "        except Exception as e:\n",
    "            print (e)"
   ]
  },
  {
   "cell_type": "markdown",
   "metadata": {
    "editable": true
   },
   "source": [
    "#### <font color=\"blue\">SELECT statement for Query 1 to verify data ingestion</font>"
   ]
  },
  {
   "cell_type": "code",
   "execution_count": 10,
   "metadata": {
    "editable": true
   },
   "outputs": [
    {
     "data": {
      "text/html": [
       "<style  type=\"text/css\" >\n",
       "    #T_830a07b6_4d61_11eb_b528_0242ac120002row0_col0 {\n",
       "            background-color:  #ADD8E6;\n",
       "            color:  black;\n",
       "        }    #T_830a07b6_4d61_11eb_b528_0242ac120002row0_col1 {\n",
       "            background-color:  #ADD8E6;\n",
       "            color:  black;\n",
       "        }    #T_830a07b6_4d61_11eb_b528_0242ac120002row0_col2 {\n",
       "            background-color:  #ADD8E6;\n",
       "            color:  black;\n",
       "        }</style>  \n",
       "<table id=\"T_830a07b6_4d61_11eb_b528_0242ac120002\" > \n",
       "<thead>    <tr> \n",
       "        <th class=\"blank level0\" ></th> \n",
       "        <th class=\"col_heading level0 col0\" >Artist</th> \n",
       "        <th class=\"col_heading level0 col1\" >Song Title</th> \n",
       "        <th class=\"col_heading level0 col2\" >Song Length</th> \n",
       "    </tr></thead> \n",
       "<tbody>    <tr> \n",
       "        <th id=\"T_830a07b6_4d61_11eb_b528_0242ac120002level0_row0\" class=\"row_heading level0 row0\" >0</th> \n",
       "        <td id=\"T_830a07b6_4d61_11eb_b528_0242ac120002row0_col0\" class=\"data row0 col0\" >Faithless</td> \n",
       "        <td id=\"T_830a07b6_4d61_11eb_b528_0242ac120002row0_col1\" class=\"data row0 col1\" >Music Matters (Mark Knight Dub)</td> \n",
       "        <td id=\"T_830a07b6_4d61_11eb_b528_0242ac120002row0_col2\" class=\"data row0 col2\" >495.307</td> \n",
       "    </tr></tbody> \n",
       "</table> "
      ],
      "text/plain": [
       "<pandas.io.formats.style.Styler at 0x7facfaac1240>"
      ]
     },
     "execution_count": 10,
     "metadata": {},
     "output_type": "execute_result"
    }
   ],
   "source": [
    "## SELECT statement verifies that the data was entered into the table\n",
    "query1 = \"select artist, song_title, song_length FROM artist_song_itemInSession WHERE session_id = 338 AND item_in_session = 4\"\n",
    "try:\n",
    "    rows = session.execute(query1)\n",
    "except Exception as e:\n",
    "    print (e)\n",
    "    \n",
    "## use a dataframe iwth input parameters - rows (for query 1 output) and column names for the output    \n",
    "df_query1 = pd.DataFrame(list(rows), columns=['Artist', 'Song Title', 'Song Length'])\n",
    "df_query1.style.set_properties(**{'background-color' : '#ADD8E6', 'color' : 'black'})"
   ]
  },
  {
   "cell_type": "markdown",
   "metadata": {
    "editable": true
   },
   "source": [
    "#### <font color=\"blue\">Query 2: Provide only the following : the name of artist, song (sorted by itemInSession), and user (first and last name) for userId=10 and sessionId = 182</font>"
   ]
  },
  {
   "cell_type": "code",
   "execution_count": 11,
   "metadata": {
    "editable": true
   },
   "outputs": [],
   "source": [
    "## Query 2 - CREATE TABLE\n",
    "\n",
    "query2 = \"CREATE TABLE IF NOT EXISTS artist_song_session \"\n",
    "query2 = query2 + \"(user_id INT, session_id INT, item_in_session INT, artist TEXT, song_title TEXT, firstname_user TEXT, lastname_user TEXT, \\\n",
    "              PRIMARY KEY((user_id, session_id), item_in_session))\"      \n",
    "\n",
    "try:\n",
    "    session.execute(query2)\n",
    "except Exception as e:\n",
    "    print (e)\n",
    "  "
   ]
  },
  {
   "cell_type": "markdown",
   "metadata": {
    "editable": true
   },
   "source": [
    "#### <font color=\"blue\">CSV file setup and Query 2 Insert Statement</font>"
   ]
  },
  {
   "cell_type": "code",
   "execution_count": 12,
   "metadata": {
    "editable": true
   },
   "outputs": [],
   "source": [
    "# Set up the CSV file\n",
    "file = 'event_datafile_new.csv'\n",
    "\n",
    "with open(file, encoding = 'utf8') as f:\n",
    "    csvreader = csv.reader(f)\n",
    "    next(csvreader) # skip header\n",
    "    for line in csvreader:\n",
    "        \n",
    "    # Query 2 : INSERT statement\n",
    "        query2 = \"INSERT INTO artist_song_session (user_id, session_id, item_in_session, artist, song_title, firstname_user, lastname_user) \"\n",
    "        query2 = query2 + \"VALUES (%s, %s, %s, %s, %s, %s, %s)\"      \n",
    "        \n",
    "        ## column positions and column names\n",
    "        ## col0 = artist; col1= firstName; col3 = itemInSession; col4 = lastName; col5=length; col8 = sessionId; col9 = song; col10 = userId\n",
    "        try:\n",
    "            session.execute(query2, ((int(line[10])), (int(line[8])), (int(line[3])), line[0], line[9], line[1], line[4]))     \n",
    "        except Exception as e:\n",
    "            print (e)"
   ]
  },
  {
   "cell_type": "markdown",
   "metadata": {
    "editable": true
   },
   "source": [
    "#### <font color=\"blue\">Select Statement for Query 2 to verify data ingestion</font>"
   ]
  },
  {
   "cell_type": "code",
   "execution_count": 13,
   "metadata": {
    "editable": true
   },
   "outputs": [
    {
     "data": {
      "text/html": [
       "<style  type=\"text/css\" >\n",
       "    #T_88d15f00_4d61_11eb_b528_0242ac120002row0_col0 {\n",
       "            background-color:  #ADD8E6;\n",
       "            color:  black;\n",
       "        }    #T_88d15f00_4d61_11eb_b528_0242ac120002row0_col1 {\n",
       "            background-color:  #ADD8E6;\n",
       "            color:  black;\n",
       "        }    #T_88d15f00_4d61_11eb_b528_0242ac120002row0_col2 {\n",
       "            background-color:  #ADD8E6;\n",
       "            color:  black;\n",
       "        }    #T_88d15f00_4d61_11eb_b528_0242ac120002row0_col3 {\n",
       "            background-color:  #ADD8E6;\n",
       "            color:  black;\n",
       "        }    #T_88d15f00_4d61_11eb_b528_0242ac120002row0_col4 {\n",
       "            background-color:  #ADD8E6;\n",
       "            color:  black;\n",
       "        }    #T_88d15f00_4d61_11eb_b528_0242ac120002row1_col0 {\n",
       "            background-color:  #ADD8E6;\n",
       "            color:  black;\n",
       "        }    #T_88d15f00_4d61_11eb_b528_0242ac120002row1_col1 {\n",
       "            background-color:  #ADD8E6;\n",
       "            color:  black;\n",
       "        }    #T_88d15f00_4d61_11eb_b528_0242ac120002row1_col2 {\n",
       "            background-color:  #ADD8E6;\n",
       "            color:  black;\n",
       "        }    #T_88d15f00_4d61_11eb_b528_0242ac120002row1_col3 {\n",
       "            background-color:  #ADD8E6;\n",
       "            color:  black;\n",
       "        }    #T_88d15f00_4d61_11eb_b528_0242ac120002row1_col4 {\n",
       "            background-color:  #ADD8E6;\n",
       "            color:  black;\n",
       "        }    #T_88d15f00_4d61_11eb_b528_0242ac120002row2_col0 {\n",
       "            background-color:  #ADD8E6;\n",
       "            color:  black;\n",
       "        }    #T_88d15f00_4d61_11eb_b528_0242ac120002row2_col1 {\n",
       "            background-color:  #ADD8E6;\n",
       "            color:  black;\n",
       "        }    #T_88d15f00_4d61_11eb_b528_0242ac120002row2_col2 {\n",
       "            background-color:  #ADD8E6;\n",
       "            color:  black;\n",
       "        }    #T_88d15f00_4d61_11eb_b528_0242ac120002row2_col3 {\n",
       "            background-color:  #ADD8E6;\n",
       "            color:  black;\n",
       "        }    #T_88d15f00_4d61_11eb_b528_0242ac120002row2_col4 {\n",
       "            background-color:  #ADD8E6;\n",
       "            color:  black;\n",
       "        }    #T_88d15f00_4d61_11eb_b528_0242ac120002row3_col0 {\n",
       "            background-color:  #ADD8E6;\n",
       "            color:  black;\n",
       "        }    #T_88d15f00_4d61_11eb_b528_0242ac120002row3_col1 {\n",
       "            background-color:  #ADD8E6;\n",
       "            color:  black;\n",
       "        }    #T_88d15f00_4d61_11eb_b528_0242ac120002row3_col2 {\n",
       "            background-color:  #ADD8E6;\n",
       "            color:  black;\n",
       "        }    #T_88d15f00_4d61_11eb_b528_0242ac120002row3_col3 {\n",
       "            background-color:  #ADD8E6;\n",
       "            color:  black;\n",
       "        }    #T_88d15f00_4d61_11eb_b528_0242ac120002row3_col4 {\n",
       "            background-color:  #ADD8E6;\n",
       "            color:  black;\n",
       "        }</style>  \n",
       "<table id=\"T_88d15f00_4d61_11eb_b528_0242ac120002\" > \n",
       "<thead>    <tr> \n",
       "        <th class=\"blank level0\" ></th> \n",
       "        <th class=\"col_heading level0 col0\" >artist</th> \n",
       "        <th class=\"col_heading level0 col1\" >itemInSession</th> \n",
       "        <th class=\"col_heading level0 col2\" >Song Title</th> \n",
       "        <th class=\"col_heading level0 col3\" >Firstname</th> \n",
       "        <th class=\"col_heading level0 col4\" >Lastname</th> \n",
       "    </tr></thead> \n",
       "<tbody>    <tr> \n",
       "        <th id=\"T_88d15f00_4d61_11eb_b528_0242ac120002level0_row0\" class=\"row_heading level0 row0\" >0</th> \n",
       "        <td id=\"T_88d15f00_4d61_11eb_b528_0242ac120002row0_col0\" class=\"data row0 col0\" >Down To The Bone</td> \n",
       "        <td id=\"T_88d15f00_4d61_11eb_b528_0242ac120002row0_col1\" class=\"data row0 col1\" >0</td> \n",
       "        <td id=\"T_88d15f00_4d61_11eb_b528_0242ac120002row0_col2\" class=\"data row0 col2\" >Keep On Keepin' On</td> \n",
       "        <td id=\"T_88d15f00_4d61_11eb_b528_0242ac120002row0_col3\" class=\"data row0 col3\" >Sylvie</td> \n",
       "        <td id=\"T_88d15f00_4d61_11eb_b528_0242ac120002row0_col4\" class=\"data row0 col4\" >Cruz</td> \n",
       "    </tr>    <tr> \n",
       "        <th id=\"T_88d15f00_4d61_11eb_b528_0242ac120002level0_row1\" class=\"row_heading level0 row1\" >1</th> \n",
       "        <td id=\"T_88d15f00_4d61_11eb_b528_0242ac120002row1_col0\" class=\"data row1 col0\" >Three Drives</td> \n",
       "        <td id=\"T_88d15f00_4d61_11eb_b528_0242ac120002row1_col1\" class=\"data row1 col1\" >1</td> \n",
       "        <td id=\"T_88d15f00_4d61_11eb_b528_0242ac120002row1_col2\" class=\"data row1 col2\" >Greece 2000</td> \n",
       "        <td id=\"T_88d15f00_4d61_11eb_b528_0242ac120002row1_col3\" class=\"data row1 col3\" >Sylvie</td> \n",
       "        <td id=\"T_88d15f00_4d61_11eb_b528_0242ac120002row1_col4\" class=\"data row1 col4\" >Cruz</td> \n",
       "    </tr>    <tr> \n",
       "        <th id=\"T_88d15f00_4d61_11eb_b528_0242ac120002level0_row2\" class=\"row_heading level0 row2\" >2</th> \n",
       "        <td id=\"T_88d15f00_4d61_11eb_b528_0242ac120002row2_col0\" class=\"data row2 col0\" >Sebastien Tellier</td> \n",
       "        <td id=\"T_88d15f00_4d61_11eb_b528_0242ac120002row2_col1\" class=\"data row2 col1\" >2</td> \n",
       "        <td id=\"T_88d15f00_4d61_11eb_b528_0242ac120002row2_col2\" class=\"data row2 col2\" >Kilometer</td> \n",
       "        <td id=\"T_88d15f00_4d61_11eb_b528_0242ac120002row2_col3\" class=\"data row2 col3\" >Sylvie</td> \n",
       "        <td id=\"T_88d15f00_4d61_11eb_b528_0242ac120002row2_col4\" class=\"data row2 col4\" >Cruz</td> \n",
       "    </tr>    <tr> \n",
       "        <th id=\"T_88d15f00_4d61_11eb_b528_0242ac120002level0_row3\" class=\"row_heading level0 row3\" >3</th> \n",
       "        <td id=\"T_88d15f00_4d61_11eb_b528_0242ac120002row3_col0\" class=\"data row3 col0\" >Lonnie Gordon</td> \n",
       "        <td id=\"T_88d15f00_4d61_11eb_b528_0242ac120002row3_col1\" class=\"data row3 col1\" >3</td> \n",
       "        <td id=\"T_88d15f00_4d61_11eb_b528_0242ac120002row3_col2\" class=\"data row3 col2\" >Catch You Baby (Steve Pitron & Max Sanna Radio Edit)</td> \n",
       "        <td id=\"T_88d15f00_4d61_11eb_b528_0242ac120002row3_col3\" class=\"data row3 col3\" >Sylvie</td> \n",
       "        <td id=\"T_88d15f00_4d61_11eb_b528_0242ac120002row3_col4\" class=\"data row3 col4\" >Cruz</td> \n",
       "    </tr></tbody> \n",
       "</table> "
      ],
      "text/plain": [
       "<pandas.io.formats.style.Styler at 0x7facfaabc8d0>"
      ]
     },
     "execution_count": 13,
     "metadata": {},
     "output_type": "execute_result"
    }
   ],
   "source": [
    "## Select statement verifies that the data was entered into the table\n",
    "query2 = \"SELECT artist, item_in_session, song_title, firstname_user, lastname_user FROM artist_song_session WHERE user_id = 10 AND session_id = 182\"\n",
    "\n",
    "try:\n",
    "    rows = session.execute(query2)\n",
    "except Exception as e:\n",
    "    print (e)\n",
    "\n",
    "# Use a dataframe with input parameters - rows (for query 2 output) and column names for the output \n",
    "df_query2 = pd.DataFrame(list(rows), columns=['artist', 'itemInSession', 'Song Title', 'Firstname', 'Lastname'])\n",
    "df_query2.style.set_properties(**{'background-color' : '#ADD8E6', 'color' : 'black'})"
   ]
  },
  {
   "cell_type": "markdown",
   "metadata": {
    "editable": true
   },
   "source": [
    "### <font color=\"blue\">Query 3: Provide every user (first and last name) in my music app history who listened to the song 'All Hands against His Own'</font>"
   ]
  },
  {
   "cell_type": "code",
   "execution_count": 14,
   "metadata": {
    "editable": true
   },
   "outputs": [],
   "source": [
    "# CREATE TABLE\n",
    "\n",
    "query3 = \"CREATE TABLE IF NOT EXISTS user_song_preference \"\n",
    "query3 = query3 + \"(song_title TEXT, user_id INT, firstname_user TEXT, lastname_user TEXT, PRIMARY KEY(song_title, user_id))\"\n",
    "\n",
    "try:\n",
    "    session.execute(query3)\n",
    "except Exception as e:\n",
    "    print (e)\n",
    "                    "
   ]
  },
  {
   "cell_type": "markdown",
   "metadata": {
    "editable": true
   },
   "source": [
    "#### <font color=\"blue\">CSV file setup and Query 3 Insert Statement</font>"
   ]
  },
  {
   "cell_type": "code",
   "execution_count": 15,
   "metadata": {
    "editable": true
   },
   "outputs": [],
   "source": [
    "# Set up the CSV file\n",
    "file = 'event_datafile_new.csv'\n",
    "\n",
    "with open(file, encoding = 'utf8') as f:\n",
    "    csvreader = csv.reader(f)\n",
    "    next(csvreader) # skip header\n",
    "    for line in csvreader:\n",
    "        \n",
    "## INSERT statement for Query 3\n",
    "        query3 = \"INSERT INTO user_song_preference (song_title, user_id, firstname_user, lastname_user) \"\n",
    "        query3 = query3 + \"VALUES (%s, %s, %s, %s)\"\n",
    "        \n",
    "        ## col1= firstName; col4 = lastName; col9 = song; col10 = userid\n",
    "      \n",
    "        try:\n",
    "           session.execute(query3, (line[9], int(line[10]), line[1], line[4]))           \n",
    "        except Exception as e:\n",
    "            print (e)"
   ]
  },
  {
   "cell_type": "markdown",
   "metadata": {
    "editable": true
   },
   "source": [
    "### <font color=\"blue\">Select Statement for Query 3 to verify data ingestion</font>"
   ]
  },
  {
   "cell_type": "code",
   "execution_count": 16,
   "metadata": {
    "editable": true,
    "scrolled": true
   },
   "outputs": [
    {
     "data": {
      "text/html": [
       "<style  type=\"text/css\" >\n",
       "    #T_8dcecc72_4d61_11eb_b528_0242ac120002row0_col0 {\n",
       "            background-color:  #ADD8E6;\n",
       "            color:  black;\n",
       "        }    #T_8dcecc72_4d61_11eb_b528_0242ac120002row0_col1 {\n",
       "            background-color:  #ADD8E6;\n",
       "            color:  black;\n",
       "        }    #T_8dcecc72_4d61_11eb_b528_0242ac120002row0_col2 {\n",
       "            background-color:  #ADD8E6;\n",
       "            color:  black;\n",
       "        }    #T_8dcecc72_4d61_11eb_b528_0242ac120002row1_col0 {\n",
       "            background-color:  #ADD8E6;\n",
       "            color:  black;\n",
       "        }    #T_8dcecc72_4d61_11eb_b528_0242ac120002row1_col1 {\n",
       "            background-color:  #ADD8E6;\n",
       "            color:  black;\n",
       "        }    #T_8dcecc72_4d61_11eb_b528_0242ac120002row1_col2 {\n",
       "            background-color:  #ADD8E6;\n",
       "            color:  black;\n",
       "        }    #T_8dcecc72_4d61_11eb_b528_0242ac120002row2_col0 {\n",
       "            background-color:  #ADD8E6;\n",
       "            color:  black;\n",
       "        }    #T_8dcecc72_4d61_11eb_b528_0242ac120002row2_col1 {\n",
       "            background-color:  #ADD8E6;\n",
       "            color:  black;\n",
       "        }    #T_8dcecc72_4d61_11eb_b528_0242ac120002row2_col2 {\n",
       "            background-color:  #ADD8E6;\n",
       "            color:  black;\n",
       "        }</style>  \n",
       "<table id=\"T_8dcecc72_4d61_11eb_b528_0242ac120002\" > \n",
       "<thead>    <tr> \n",
       "        <th class=\"blank level0\" ></th> \n",
       "        <th class=\"col_heading level0 col0\" >User Firstname</th> \n",
       "        <th class=\"col_heading level0 col1\" >User Lastname</th> \n",
       "        <th class=\"col_heading level0 col2\" >Song Title</th> \n",
       "    </tr></thead> \n",
       "<tbody>    <tr> \n",
       "        <th id=\"T_8dcecc72_4d61_11eb_b528_0242ac120002level0_row0\" class=\"row_heading level0 row0\" >0</th> \n",
       "        <td id=\"T_8dcecc72_4d61_11eb_b528_0242ac120002row0_col0\" class=\"data row0 col0\" >Jacqueline</td> \n",
       "        <td id=\"T_8dcecc72_4d61_11eb_b528_0242ac120002row0_col1\" class=\"data row0 col1\" >Lynch</td> \n",
       "        <td id=\"T_8dcecc72_4d61_11eb_b528_0242ac120002row0_col2\" class=\"data row0 col2\" >All Hands Against His Own</td> \n",
       "    </tr>    <tr> \n",
       "        <th id=\"T_8dcecc72_4d61_11eb_b528_0242ac120002level0_row1\" class=\"row_heading level0 row1\" >1</th> \n",
       "        <td id=\"T_8dcecc72_4d61_11eb_b528_0242ac120002row1_col0\" class=\"data row1 col0\" >Tegan</td> \n",
       "        <td id=\"T_8dcecc72_4d61_11eb_b528_0242ac120002row1_col1\" class=\"data row1 col1\" >Levine</td> \n",
       "        <td id=\"T_8dcecc72_4d61_11eb_b528_0242ac120002row1_col2\" class=\"data row1 col2\" >All Hands Against His Own</td> \n",
       "    </tr>    <tr> \n",
       "        <th id=\"T_8dcecc72_4d61_11eb_b528_0242ac120002level0_row2\" class=\"row_heading level0 row2\" >2</th> \n",
       "        <td id=\"T_8dcecc72_4d61_11eb_b528_0242ac120002row2_col0\" class=\"data row2 col0\" >Sara</td> \n",
       "        <td id=\"T_8dcecc72_4d61_11eb_b528_0242ac120002row2_col1\" class=\"data row2 col1\" >Johnson</td> \n",
       "        <td id=\"T_8dcecc72_4d61_11eb_b528_0242ac120002row2_col2\" class=\"data row2 col2\" >All Hands Against His Own</td> \n",
       "    </tr></tbody> \n",
       "</table> "
      ],
      "text/plain": [
       "<pandas.io.formats.style.Styler at 0x7facc09ee9b0>"
      ]
     },
     "execution_count": 16,
     "metadata": {},
     "output_type": "execute_result"
    }
   ],
   "source": [
    "## SELECT statement to verify the data was entered into the table\n",
    "query3 = \"select firstname_user, lastname_user, song_title FROM user_song_preference WHERE song_title = 'All Hands Against His Own'\"\n",
    "try:\n",
    "    rows = session.execute(query3)\n",
    "except Exception as e:\n",
    "    print (e)\n",
    "\n",
    "## Use a dataframe with input parameters - the rows (for query3 output) along with column names for the output\n",
    "df_query3 = pd.DataFrame(list(rows), columns=['User Firstname', 'User Lastname', 'Song Title'])\n",
    "df_query3.style.set_properties(**{'background-color' : '#ADD8E6', 'color' : 'black'})"
   ]
  },
  {
   "cell_type": "markdown",
   "metadata": {
    "editable": true
   },
   "source": [
    "### Drop the tables before closing out the sessions"
   ]
  },
  {
   "cell_type": "code",
   "execution_count": 17,
   "metadata": {
    "editable": true
   },
   "outputs": [],
   "source": [
    "## Drop the table, music_app_history before closing out the sessions\n",
    "query = \"DROP TABLE IF EXISTS artist_song_itemInSession\"\n",
    "try:\n",
    "    rows = session.execute(query)\n",
    "except Exception as e:\n",
    "    print (e)\n",
    "    \n",
    "## Drop the table, music_app_artist_user\n",
    "query2 = \"DROP TABLE IF EXISTS artist_song_session\"\n",
    "try:\n",
    "    rows = session.execute(query2)\n",
    "except Exception as e:\n",
    "    print (e)\n",
    "    \n",
    "## Drop the table, music_app_user_history\n",
    "query3 = \"DROP TABLE IF EXISTS user_song_preference\"\n",
    "try:\n",
    "    rows = session.execute(query3)\n",
    "except Exception as e:\n",
    "    print (e)"
   ]
  },
  {
   "cell_type": "markdown",
   "metadata": {
    "editable": true
   },
   "source": [
    "### Close the session and cluster connection¶"
   ]
  },
  {
   "cell_type": "code",
   "execution_count": 18,
   "metadata": {
    "editable": true
   },
   "outputs": [],
   "source": [
    "session.shutdown()\n",
    "cluster.shutdown()"
   ]
  },
  {
   "cell_type": "code",
   "execution_count": null,
   "metadata": {
    "editable": true
   },
   "outputs": [],
   "source": []
  }
 ],
 "metadata": {
  "kernelspec": {
   "display_name": "Python 3",
   "language": "python",
   "name": "python3"
  },
  "language_info": {
   "codemirror_mode": {
    "name": "ipython",
    "version": 3
   },
   "file_extension": ".py",
   "mimetype": "text/x-python",
   "name": "python",
   "nbconvert_exporter": "python",
   "pygments_lexer": "ipython3",
   "version": "3.6.3"
  }
 },
 "nbformat": 4,
 "nbformat_minor": 4
}
